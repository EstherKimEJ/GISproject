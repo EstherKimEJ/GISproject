{
  "cells": [
    {
      "cell_type": "raw",
      "metadata": {},
      "source": [
        "---\n",
        "title: \"GIS project\"\n",
        "---"
      ],
      "id": "f031dafc"
    },
    {
      "cell_type": "markdown",
      "metadata": {},
      "source": [
        "Welcome to our project page.\n",
        "\n",
        "To learn more about Quarto websites visit <https://quarto.org/docs/websites>.\n",
        "\n",
        "\n",
        "```{GROUP 1 pretty gals}\n",
        "```"
      ],
      "id": "4a1fd0f1"
    }
  ],
  "metadata": {
    "kernelspec": {
      "name": "python3",
      "language": "python",
      "display_name": "Python 3 (ipykernel)"
    }
  },
  "nbformat": 4,
  "nbformat_minor": 5
}